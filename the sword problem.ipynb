{
  "nbformat": 4,
  "nbformat_minor": 0,
  "metadata": {
    "colab": {
      "provenance": []
    },
    "kernelspec": {
      "name": "python3",
      "display_name": "Python 3"
    },
    "language_info": {
      "name": "python"
    }
  },
  "cells": [
    {
      "cell_type": "code",
      "execution_count": 90,
      "metadata": {
        "colab": {
          "base_uri": "https://localhost:8080/"
        },
        "id": "A7UeMxLg77Z9",
        "outputId": "58c3fdaa-5fdb-43c1-fec1-a3a6feef3e1c"
      },
      "outputs": [
        {
          "output_type": "stream",
          "name": "stdout",
          "text": [
            "[1, 2, 3, 4, 5, 6, 7, 8, 9, 10, 11, 12, 13, 14, 15, 16, 17, 18, 19, 20, 21, 22, 23, 24, 25, 26, 27, 28, 29, 30, 31, 32, 33, 34, 35, 36, 37, 38, 39, 40, 41, 42, 43, 44, 45, 46, 47, 48, 49, 50, 51, 52, 53, 54, 55, 56, 57, 58, 59, 60, 61, 62, 63, 64, 65, 66, 67, 68, 69, 70, 71, 72, 73, 74, 75, 76, 77, 78, 79, 80, 81, 82, 83, 84, 85, 86, 87, 88, 89, 90, 91, 92, 93, 94, 95, 96, 97, 98, 99, 100]\n"
          ]
        }
      ],
      "source": [
        "group = []\n",
        "for i in range(100):\n",
        "  group.append(i+1)\n",
        "print(group)"
      ]
    },
    {
      "cell_type": "code",
      "source": [
        "flag = 0\n",
        "while len(group) !=1:\n",
        "  i=0\n",
        "  while n!=i:\n",
        "    flag = 1 - flag\n",
        "    if flag == 1:\n",
        "      i=i+1\n",
        "    else:\n",
        "      n=n-1\n",
        "      del group[i]\n",
        "print(\"The winner is \",group[0])"
      ],
      "metadata": {
        "colab": {
          "base_uri": "https://localhost:8080/"
        },
        "id": "E0VJ8CKD8FdG",
        "outputId": "837673cf-2e58-4eef-cbd0-2daf6778b7b8"
      },
      "execution_count": 91,
      "outputs": [
        {
          "output_type": "stream",
          "name": "stdout",
          "text": [
            "The winner is  73\n"
          ]
        }
      ]
    }
  ]
}
